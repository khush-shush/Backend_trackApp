{
 "cells": [
  {
   "cell_type": "code",
   "execution_count": 1,
   "id": "1bbc3bbb",
   "metadata": {},
   "outputs": [
    {
     "name": "stdout",
     "output_type": "stream",
     "text": [
      "🚨 SMS Alert Sent! SID: SM0477f5c4fffb6924d2112c6b3ffc6aaf\n",
      "🎤 Recording emergency audio...\n",
      "🎤 Recording 10 seconds of audio...\n",
      "✅ Recording saved as emergency_recording.wav\n",
      "✅ Emergency recording saved.\n"
     ]
    }
   ],
   "source": [
    "import sounddevice as sd\n",
    "import numpy as np\n",
    "import wave\n",
    "from twilio.rest import Client\n",
    "\n",
    "# ------------------- TWILIO CONFIG -------------------\n",
    "ACCOUNT_SID = \"AC37965b7adf6eea30841c41fe571d0cb2\"\n",
    "AUTH_TOKEN = \"2b97c6cc1df545c033f4388f3e3c524e\"\n",
    "TWILIO_PHONE_NUMBER = \"+12185155312\"\n",
    "TO_PHONE_NUMBER = \"+918971754654\"\n",
    "# Twilio Client\n",
    "client = Client(ACCOUNT_SID, AUTH_TOKEN)\n",
    "\n",
    "\n",
    "# ------------------- ALERT FUNCTION -------------------\n",
    "def send_alert():\n",
    "    \"\"\"Send SMS alert via Twilio.\"\"\"\n",
    "    try:\n",
    "        message = client.messages.create(\n",
    "            body=\"🚨 EMERGENCY ALERT! Immediate action required!\",\n",
    "            from_=TWILIO_PHONE_NUMBER,\n",
    "            to=TO_PHONE_NUMBER\n",
    "        )\n",
    "        print(f\"🚨 SMS Alert Sent! SID: {message.sid}\")\n",
    "    except Exception as e:\n",
    "        print(f\"⚠️ Error sending SMS: {e}\")\n",
    "\n",
    "    # Start recording emergency audio after sending alert\n",
    "    print(\"🎤 Recording emergency audio...\")\n",
    "    record_voice(\"emergency_recording.wav\", duration=10)\n",
    "    print(\"✅ Emergency recording saved.\")\n",
    "\n",
    "\n",
    "# ------------------- RECORD AUDIO FUNCTION -------------------\n",
    "def record_voice(file_name=\"emergency_recording.wav\", duration=5, sample_rate=16000):\n",
    "    \"\"\"Record an emergency voice message.\"\"\"\n",
    "    print(f\"🎤 Recording {duration} seconds of audio...\")\n",
    "    audio = sd.rec(int(duration * sample_rate), samplerate=sample_rate, channels=1, dtype=np.int16)\n",
    "    sd.wait()\n",
    "\n",
    "    with wave.open(file_name, \"wb\") as wave_file:\n",
    "        wave_file.setnchannels(1)\n",
    "        wave_file.setsampwidth(2)\n",
    "        wave_file.setframerate(sample_rate)\n",
    "        wave_file.writeframes(audio.tobytes())\n",
    "\n",
    "    print(f\"✅ Recording saved as {file_name}\")\n",
    "\n",
    "\n",
    "# ------------------- EXECUTE ALERT -------------------\n",
    "if __name__ == \"__main__\":\n",
    "    send_alert()\n"
   ]
  },
  {
   "cell_type": "code",
   "execution_count": null,
   "id": "4ddf77db",
   "metadata": {},
   "outputs": [],
   "source": []
  }
 ],
 "metadata": {
  "kernelspec": {
   "display_name": "Python 3 (ipykernel)",
   "language": "python",
   "name": "python3"
  },
  "language_info": {
   "codemirror_mode": {
    "name": "ipython",
    "version": 3
   },
   "file_extension": ".py",
   "mimetype": "text/x-python",
   "name": "python",
   "nbconvert_exporter": "python",
   "pygments_lexer": "ipython3",
   "version": "3.9.12"
  }
 },
 "nbformat": 4,
 "nbformat_minor": 5
}
