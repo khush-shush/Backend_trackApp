{
 "cells": [
  {
   "cell_type": "code",
   "execution_count": 1,
   "id": "020daf74",
   "metadata": {},
   "outputs": [
    {
     "name": "stdout",
     "output_type": "stream",
     "text": [
      "Requirement already satisfied: speechbrain in c:\\users\\kuksh\\anaconda3\\lib\\site-packages (1.0.2)\n",
      "Requirement already satisfied: hyperpyyaml in c:\\users\\kuksh\\anaconda3\\lib\\site-packages (from speechbrain) (1.2.2)\n",
      "Requirement already satisfied: joblib in c:\\users\\kuksh\\anaconda3\\lib\\site-packages (from speechbrain) (1.4.2)\n",
      "Requirement already satisfied: numpy in c:\\users\\kuksh\\anaconda3\\lib\\site-packages (from speechbrain) (1.21.6)\n",
      "Requirement already satisfied: packaging in c:\\users\\kuksh\\anaconda3\\lib\\site-packages (from speechbrain) (24.1)\n",
      "Requirement already satisfied: scipy in c:\\users\\kuksh\\anaconda3\\lib\\site-packages (from speechbrain) (1.10.1)\n",
      "Requirement already satisfied: sentencepiece in c:\\users\\kuksh\\anaconda3\\lib\\site-packages (from speechbrain) (0.2.0)\n",
      "Requirement already satisfied: torch>=1.9 in c:\\users\\kuksh\\anaconda3\\lib\\site-packages (from speechbrain) (2.6.0)\n",
      "Requirement already satisfied: torchaudio in c:\\users\\kuksh\\anaconda3\\lib\\site-packages (from speechbrain) (2.6.0+cpu)\n",
      "Requirement already satisfied: tqdm in c:\\users\\kuksh\\anaconda3\\lib\\site-packages (from speechbrain) (4.66.5)\n",
      "Requirement already satisfied: huggingface-hub in c:\\users\\kuksh\\anaconda3\\lib\\site-packages (from speechbrain) (0.26.2)\n",
      "Requirement already satisfied: filelock in c:\\users\\kuksh\\anaconda3\\lib\\site-packages (from torch>=1.9->speechbrain) (3.6.0)\n",
      "Requirement already satisfied: typing-extensions>=4.10.0 in c:\\users\\kuksh\\anaconda3\\lib\\site-packages (from torch>=1.9->speechbrain) (4.12.2)\n",
      "Requirement already satisfied: networkx in c:\\users\\kuksh\\anaconda3\\lib\\site-packages (from torch>=1.9->speechbrain) (2.7.1)\n",
      "Requirement already satisfied: jinja2 in c:\\users\\kuksh\\anaconda3\\lib\\site-packages (from torch>=1.9->speechbrain) (2.11.3)\n",
      "Requirement already satisfied: fsspec in c:\\users\\kuksh\\anaconda3\\lib\\site-packages (from torch>=1.9->speechbrain) (2024.9.0)\n",
      "Requirement already satisfied: sympy==1.13.1 in c:\\users\\kuksh\\anaconda3\\lib\\site-packages (from torch>=1.9->speechbrain) (1.13.1)\n",
      "Requirement already satisfied: mpmath<1.4,>=1.1.0 in c:\\users\\kuksh\\anaconda3\\lib\\site-packages (from sympy==1.13.1->torch>=1.9->speechbrain) (1.2.1)\n",
      "Requirement already satisfied: pyyaml>=5.1 in c:\\users\\kuksh\\anaconda3\\lib\\site-packages (from huggingface-hub->speechbrain) (6.0)\n",
      "Requirement already satisfied: requests in c:\\users\\kuksh\\anaconda3\\lib\\site-packages (from huggingface-hub->speechbrain) (2.32.3)\n",
      "Requirement already satisfied: colorama in c:\\users\\kuksh\\anaconda3\\lib\\site-packages (from tqdm->speechbrain) (0.4.4)\n",
      "Requirement already satisfied: ruamel.yaml>=0.17.28 in c:\\users\\kuksh\\anaconda3\\lib\\site-packages (from hyperpyyaml->speechbrain) (0.18.10)\n",
      "Requirement already satisfied: ruamel.yaml.clib>=0.2.7 in c:\\users\\kuksh\\anaconda3\\lib\\site-packages (from ruamel.yaml>=0.17.28->hyperpyyaml->speechbrain) (0.2.12)\n",
      "Requirement already satisfied: MarkupSafe>=0.23 in c:\\users\\kuksh\\anaconda3\\lib\\site-packages (from jinja2->torch>=1.9->speechbrain) (2.0.1)\n",
      "Requirement already satisfied: charset-normalizer<4,>=2 in c:\\users\\kuksh\\anaconda3\\lib\\site-packages (from requests->huggingface-hub->speechbrain) (2.0.4)\n",
      "Requirement already satisfied: idna<4,>=2.5 in c:\\users\\kuksh\\anaconda3\\lib\\site-packages (from requests->huggingface-hub->speechbrain) (3.3)\n",
      "Requirement already satisfied: urllib3<3,>=1.21.1 in c:\\users\\kuksh\\anaconda3\\lib\\site-packages (from requests->huggingface-hub->speechbrain) (1.26.9)\n",
      "Requirement already satisfied: certifi>=2017.4.17 in c:\\users\\kuksh\\anaconda3\\lib\\site-packages (from requests->huggingface-hub->speechbrain) (2021.10.8)\n",
      "Note: you may need to restart the kernel to use updated packages.\n"
     ]
    },
    {
     "name": "stderr",
     "output_type": "stream",
     "text": [
      "WARNING: Ignoring invalid distribution -pencv-python (c:\\users\\kuksh\\anaconda3\\lib\\site-packages)\n",
      "WARNING: Ignoring invalid distribution -pencv-python (c:\\users\\kuksh\\anaconda3\\lib\\site-packages)\n",
      "WARNING: Ignoring invalid distribution -pencv-python (c:\\users\\kuksh\\anaconda3\\lib\\site-packages)\n"
     ]
    }
   ],
   "source": [
    "pip install speechbrain"
   ]
  },
  {
   "cell_type": "code",
   "execution_count": 33,
   "id": "cf4b73c2",
   "metadata": {},
   "outputs": [
    {
     "name": "stdout",
     "output_type": "stream",
     "text": [
      "Requirement already satisfied: speechbrain in c:\\users\\kuksh\\anaconda3\\lib\\site-packages (1.0.2)\n",
      "Requirement already satisfied: hyperpyyaml in c:\\users\\kuksh\\anaconda3\\lib\\site-packages (from speechbrain) (1.2.2)\n",
      "Requirement already satisfied: joblib in c:\\users\\kuksh\\anaconda3\\lib\\site-packages (from speechbrain) (1.4.2)\n",
      "Requirement already satisfied: numpy in c:\\users\\kuksh\\anaconda3\\lib\\site-packages (from speechbrain) (1.21.6)\n",
      "Requirement already satisfied: packaging in c:\\users\\kuksh\\anaconda3\\lib\\site-packages (from speechbrain) (24.1)\n",
      "Requirement already satisfied: scipy in c:\\users\\kuksh\\anaconda3\\lib\\site-packages (from speechbrain) (1.10.1)\n",
      "Requirement already satisfied: sentencepiece in c:\\users\\kuksh\\anaconda3\\lib\\site-packages (from speechbrain) (0.2.0)\n",
      "Requirement already satisfied: torch>=1.9 in c:\\users\\kuksh\\anaconda3\\lib\\site-packages (from speechbrain) (2.6.0)\n",
      "Requirement already satisfied: torchaudio in c:\\users\\kuksh\\anaconda3\\lib\\site-packages (from speechbrain) (2.6.0+cpu)\n",
      "Requirement already satisfied: tqdm in c:\\users\\kuksh\\anaconda3\\lib\\site-packages (from speechbrain) (4.66.5)\n",
      "Requirement already satisfied: huggingface-hub in c:\\users\\kuksh\\anaconda3\\lib\\site-packages (from speechbrain) (0.26.2)\n",
      "Requirement already satisfied: filelock in c:\\users\\kuksh\\anaconda3\\lib\\site-packages (from torch>=1.9->speechbrain) (3.6.0)\n",
      "Requirement already satisfied: typing-extensions>=4.10.0 in c:\\users\\kuksh\\anaconda3\\lib\\site-packages (from torch>=1.9->speechbrain) (4.12.2)\n",
      "Requirement already satisfied: networkx in c:\\users\\kuksh\\anaconda3\\lib\\site-packages (from torch>=1.9->speechbrain) (2.7.1)\n",
      "Requirement already satisfied: jinja2 in c:\\users\\kuksh\\anaconda3\\lib\\site-packages (from torch>=1.9->speechbrain) (2.11.3)\n",
      "Requirement already satisfied: fsspec in c:\\users\\kuksh\\anaconda3\\lib\\site-packages (from torch>=1.9->speechbrain) (2024.9.0)\n",
      "Requirement already satisfied: sympy==1.13.1 in c:\\users\\kuksh\\anaconda3\\lib\\site-packages (from torch>=1.9->speechbrain) (1.13.1)\n",
      "Requirement already satisfied: mpmath<1.4,>=1.1.0 in c:\\users\\kuksh\\anaconda3\\lib\\site-packages (from sympy==1.13.1->torch>=1.9->speechbrain) (1.2.1)\n",
      "Requirement already satisfied: pyyaml>=5.1 in c:\\users\\kuksh\\anaconda3\\lib\\site-packages (from huggingface-hub->speechbrain) (6.0)\n",
      "Requirement already satisfied: requests in c:\\users\\kuksh\\anaconda3\\lib\\site-packages (from huggingface-hub->speechbrain) (2.32.3)\n",
      "Requirement already satisfied: colorama in c:\\users\\kuksh\\anaconda3\\lib\\site-packages (from tqdm->speechbrain) (0.4.4)\n",
      "Requirement already satisfied: ruamel.yaml>=0.17.28 in c:\\users\\kuksh\\anaconda3\\lib\\site-packages (from hyperpyyaml->speechbrain) (0.18.10)\n",
      "Requirement already satisfied: ruamel.yaml.clib>=0.2.7 in c:\\users\\kuksh\\anaconda3\\lib\\site-packages (from ruamel.yaml>=0.17.28->hyperpyyaml->speechbrain) (0.2.12)\n",
      "Requirement already satisfied: MarkupSafe>=0.23 in c:\\users\\kuksh\\anaconda3\\lib\\site-packages (from jinja2->torch>=1.9->speechbrain) (2.0.1)\n",
      "Requirement already satisfied: charset-normalizer<4,>=2 in c:\\users\\kuksh\\anaconda3\\lib\\site-packages (from requests->huggingface-hub->speechbrain) (2.0.4)\n",
      "Requirement already satisfied: idna<4,>=2.5 in c:\\users\\kuksh\\anaconda3\\lib\\site-packages (from requests->huggingface-hub->speechbrain) (3.3)\n",
      "Requirement already satisfied: urllib3<3,>=1.21.1 in c:\\users\\kuksh\\anaconda3\\lib\\site-packages (from requests->huggingface-hub->speechbrain) (1.26.9)\n",
      "Requirement already satisfied: certifi>=2017.4.17 in c:\\users\\kuksh\\anaconda3\\lib\\site-packages (from requests->huggingface-hub->speechbrain) (2021.10.8)\n",
      "Note: you may need to restart the kernel to use updated packages.\n"
     ]
    },
    {
     "name": "stderr",
     "output_type": "stream",
     "text": [
      "WARNING: Ignoring invalid distribution -pencv-python (c:\\users\\kuksh\\anaconda3\\lib\\site-packages)\n",
      "WARNING: Ignoring invalid distribution -pencv-python (c:\\users\\kuksh\\anaconda3\\lib\\site-packages)\n",
      "WARNING: Ignoring invalid distribution -pencv-python (c:\\users\\kuksh\\anaconda3\\lib\\site-packages)\n"
     ]
    }
   ],
   "source": [
    "pip install --upgrade speechbrain\n"
   ]
  },
  {
   "cell_type": "code",
   "execution_count": 3,
   "id": "861883fb",
   "metadata": {},
   "outputs": [
    {
     "name": "stderr",
     "output_type": "stream",
     "text": [
      "Cloning into 'spkrec-ecapa-voxceleb'...\n",
      "Filtering content: 100% (2/2)\n",
      "Filtering content: 100% (2/2), 84.73 MiB | 3.12 MiB/s, done.\n",
      "Encountered 1 file that should have been a pointer, but wasn't:\n",
      "\tmean_var_norm_emb.ckpt\n"
     ]
    }
   ],
   "source": [
    "!git clone https://huggingface.co/speechbrain/spkrec-ecapa-voxceleb"
   ]
  },
  {
   "cell_type": "code",
   "execution_count": 1,
   "id": "0986400a",
   "metadata": {},
   "outputs": [
    {
     "name": "stderr",
     "output_type": "stream",
     "text": [
      "INFO:speechbrain.utils.quirks:Applied quirks (see `speechbrain.utils.quirks`): [disable_jit_profiling, allow_tf32]\n",
      "INFO:speechbrain.utils.quirks:Excluded quirks specified by the `SB_DISABLE_QUIRKS` environment (comma-separated list): []\n",
      "C:\\Users\\kuksh\\anaconda3\\lib\\inspect.py:746: UserWarning: Module 'speechbrain.pretrained' was deprecated, redirecting to 'speechbrain.inference'. Please update your script. This is a change from SpeechBrain 1.0. See: https://github.com/speechbrain/speechbrain/releases/tag/v1.0.0\n",
      "  if ismodule(module) and hasattr(module, '__file__'):\n",
      "C:\\Users\\kuksh\\AppData\\Local\\Temp\\ipykernel_20600\\3075496948.py:1: UserWarning: Module 'speechbrain.pretrained' was deprecated, redirecting to 'speechbrain.inference'. Please update your script. This is a change from SpeechBrain 1.0. See: https://github.com/speechbrain/speechbrain/releases/tag/v1.0.0\n",
      "  from speechbrain.pretrained import SpeakerRecognition\n",
      "C:\\Users\\kuksh\\anaconda3\\lib\\site-packages\\speechbrain\\utils\\fetching.py:151: UserWarning: Using SYMLINK strategy on Windows for fetching potentially requires elevated privileges and is not recommended. See `LocalStrategy` documentation.\n",
      "  warnings.warn(\n",
      "C:\\Users\\kuksh\\anaconda3\\lib\\site-packages\\speechbrain\\utils\\autocast.py:68: FutureWarning: `torch.cuda.amp.custom_fwd(args...)` is deprecated. Please use `torch.amp.custom_fwd(args..., device_type='cuda')` instead.\n",
      "  wrapped_fwd = torch.cuda.amp.custom_fwd(fwd, cast_inputs=cast_inputs)\n",
      "C:\\Users\\kuksh\\anaconda3\\lib\\site-packages\\speechbrain\\utils\\parameter_transfer.py:234: UserWarning: Requested Pretrainer collection using symlinks on Windows. This might not work; see `LocalStrategy` documentation. Consider unsetting `collect_in` in Pretrainer to avoid symlinking altogether.\n",
      "  warnings.warn(\n",
      "INFO:speechbrain.utils.fetching:Fetch embedding_model.ckpt: Fetching from HuggingFace Hub 'speechbrain/spkrec-ecapa-voxceleb' if not cached\n"
     ]
    },
    {
     "data": {
      "application/vnd.jupyter.widget-view+json": {
       "model_id": "26c7d993756542eba25cd151d301853e",
       "version_major": 2,
       "version_minor": 0
      },
      "text/plain": [
       "embedding_model.ckpt:   0%|          | 0.00/83.3M [00:00<?, ?B/s]"
      ]
     },
     "metadata": {},
     "output_type": "display_data"
    },
    {
     "name": "stderr",
     "output_type": "stream",
     "text": [
      "INFO:speechbrain.utils.fetching:Fetch mean_var_norm_emb.ckpt: Fetching from HuggingFace Hub 'speechbrain/spkrec-ecapa-voxceleb' if not cached\n"
     ]
    },
    {
     "data": {
      "application/vnd.jupyter.widget-view+json": {
       "model_id": "6031b23d67034bc28a9bfedeed74662d",
       "version_major": 2,
       "version_minor": 0
      },
      "text/plain": [
       "mean_var_norm_emb.ckpt:   0%|          | 0.00/1.92k [00:00<?, ?B/s]"
      ]
     },
     "metadata": {},
     "output_type": "display_data"
    },
    {
     "name": "stderr",
     "output_type": "stream",
     "text": [
      "INFO:speechbrain.utils.fetching:Fetch classifier.ckpt: Fetching from HuggingFace Hub 'speechbrain/spkrec-ecapa-voxceleb' if not cached\n"
     ]
    },
    {
     "data": {
      "application/vnd.jupyter.widget-view+json": {
       "model_id": "e9e289fb9d7342e79a4ef859dab8cacd",
       "version_major": 2,
       "version_minor": 0
      },
      "text/plain": [
       "classifier.ckpt:   0%|          | 0.00/5.53M [00:00<?, ?B/s]"
      ]
     },
     "metadata": {},
     "output_type": "display_data"
    },
    {
     "name": "stderr",
     "output_type": "stream",
     "text": [
      "INFO:speechbrain.utils.fetching:Fetch label_encoder.txt: Fetching from HuggingFace Hub 'speechbrain/spkrec-ecapa-voxceleb' if not cached\n"
     ]
    },
    {
     "data": {
      "application/vnd.jupyter.widget-view+json": {
       "model_id": "02a68fb0b94d4b27af2be158a52175a2",
       "version_major": 2,
       "version_minor": 0
      },
      "text/plain": [
       "label_encoder.txt:   0%|          | 0.00/129k [00:00<?, ?B/s]"
      ]
     },
     "metadata": {},
     "output_type": "display_data"
    },
    {
     "name": "stderr",
     "output_type": "stream",
     "text": [
      "INFO:speechbrain.utils.parameter_transfer:Loading pretrained files for: embedding_model, mean_var_norm_emb, classifier, label_encoder\n"
     ]
    }
   ],
   "source": [
    "\n",
    "from speechbrain.pretrained import SpeakerRecognition\n",
    "\n",
    "model = SpeakerRecognition.from_hparams(\n",
    "    source=\"spkrec-ecapa-voxceleb\",  # Replace with your actual path\n",
    "    savedir=\"speechbrain_model\"  # Local directory where SpeechBrain saves files\n",
    ")\n"
   ]
  },
  {
   "cell_type": "code",
   "execution_count": 4,
   "id": "2c940e4a",
   "metadata": {},
   "outputs": [
    {
     "name": "stdout",
     "output_type": "stream",
     "text": [
      "Requirement already satisfied: torch in c:\\users\\kuksh\\anaconda3\\lib\\site-packages (2.6.0)\n",
      "Requirement already satisfied: filelock in c:\\users\\kuksh\\anaconda3\\lib\\site-packages (from torch) (3.6.0)\n",
      "Requirement already satisfied: typing-extensions>=4.10.0 in c:\\users\\kuksh\\anaconda3\\lib\\site-packages (from torch) (4.12.2)\n",
      "Requirement already satisfied: networkx in c:\\users\\kuksh\\anaconda3\\lib\\site-packages (from torch) (2.7.1)\n",
      "Requirement already satisfied: jinja2 in c:\\users\\kuksh\\anaconda3\\lib\\site-packages (from torch) (2.11.3)\n",
      "Requirement already satisfied: fsspec in c:\\users\\kuksh\\anaconda3\\lib\\site-packages (from torch) (2024.9.0)\n",
      "Requirement already satisfied: sympy==1.13.1 in c:\\users\\kuksh\\anaconda3\\lib\\site-packages (from torch) (1.13.1)\n",
      "Requirement already satisfied: mpmath<1.4,>=1.1.0 in c:\\users\\kuksh\\anaconda3\\lib\\site-packages (from sympy==1.13.1->torch) (1.2.1)\n",
      "Requirement already satisfied: MarkupSafe>=0.23 in c:\\users\\kuksh\\anaconda3\\lib\\site-packages (from jinja2->torch) (2.0.1)\n"
     ]
    },
    {
     "name": "stderr",
     "output_type": "stream",
     "text": [
      "WARNING: Ignoring invalid distribution -pencv-python (c:\\users\\kuksh\\anaconda3\\lib\\site-packages)\n",
      "WARNING: Ignoring invalid distribution -pencv-python (c:\\users\\kuksh\\anaconda3\\lib\\site-packages)\n",
      "WARNING: Ignoring invalid distribution -pencv-python (c:\\users\\kuksh\\anaconda3\\lib\\site-packages)\n"
     ]
    }
   ],
   "source": [
    "!pip install torch"
   ]
  },
  {
   "cell_type": "code",
   "execution_count": 13,
   "id": "a02f78fb",
   "metadata": {},
   "outputs": [],
   "source": [
    "import sounddevice as sd\n",
    "import scipy.io.wavfile as wav "
   ]
  },
  {
   "cell_type": "code",
   "execution_count": 5,
   "id": "03cbb2c6",
   "metadata": {},
   "outputs": [
    {
     "name": "stdout",
     "output_type": "stream",
     "text": [
      "Collecting noisereduce\n",
      "  Downloading noisereduce-3.0.3-py3-none-any.whl.metadata (14 kB)\n",
      "Requirement already satisfied: scipy in c:\\users\\kuksh\\anaconda3\\lib\\site-packages (from noisereduce) (1.10.1)\n",
      "Requirement already satisfied: matplotlib in c:\\users\\kuksh\\anaconda3\\lib\\site-packages (from noisereduce) (3.5.1)\n",
      "Requirement already satisfied: numpy in c:\\users\\kuksh\\anaconda3\\lib\\site-packages (from noisereduce) (1.21.6)\n",
      "Requirement already satisfied: tqdm in c:\\users\\kuksh\\anaconda3\\lib\\site-packages (from noisereduce) (4.66.5)\n",
      "Requirement already satisfied: joblib in c:\\users\\kuksh\\anaconda3\\lib\\site-packages (from noisereduce) (1.4.2)\n",
      "Requirement already satisfied: cycler>=0.10 in c:\\users\\kuksh\\anaconda3\\lib\\site-packages (from matplotlib->noisereduce) (0.11.0)\n",
      "Requirement already satisfied: fonttools>=4.22.0 in c:\\users\\kuksh\\anaconda3\\lib\\site-packages (from matplotlib->noisereduce) (4.25.0)\n",
      "Requirement already satisfied: kiwisolver>=1.0.1 in c:\\users\\kuksh\\anaconda3\\lib\\site-packages (from matplotlib->noisereduce) (1.3.2)\n",
      "Requirement already satisfied: packaging>=20.0 in c:\\users\\kuksh\\anaconda3\\lib\\site-packages (from matplotlib->noisereduce) (24.1)\n",
      "Requirement already satisfied: pillow>=6.2.0 in c:\\users\\kuksh\\anaconda3\\lib\\site-packages (from matplotlib->noisereduce) (10.4.0)\n",
      "Requirement already satisfied: pyparsing>=2.2.1 in c:\\users\\kuksh\\anaconda3\\lib\\site-packages (from matplotlib->noisereduce) (3.0.4)\n",
      "Requirement already satisfied: python-dateutil>=2.7 in c:\\users\\kuksh\\anaconda3\\lib\\site-packages (from matplotlib->noisereduce) (2.8.2)\n",
      "Requirement already satisfied: colorama in c:\\users\\kuksh\\anaconda3\\lib\\site-packages (from tqdm->noisereduce) (0.4.4)\n",
      "Requirement already satisfied: six>=1.5 in c:\\users\\kuksh\\anaconda3\\lib\\site-packages (from python-dateutil>=2.7->matplotlib->noisereduce) (1.16.0)\n",
      "Downloading noisereduce-3.0.3-py3-none-any.whl (22 kB)\n",
      "Installing collected packages: noisereduce\n",
      "Successfully installed noisereduce-3.0.3\n",
      "Note: you may need to restart the kernel to use updated packages.\n"
     ]
    },
    {
     "name": "stderr",
     "output_type": "stream",
     "text": [
      "WARNING: Ignoring invalid distribution -pencv-python (c:\\users\\kuksh\\anaconda3\\lib\\site-packages)\n",
      "WARNING: Ignoring invalid distribution -pencv-python (c:\\users\\kuksh\\anaconda3\\lib\\site-packages)\n",
      "WARNING: Ignoring invalid distribution -pencv-python (c:\\users\\kuksh\\anaconda3\\lib\\site-packages)\n"
     ]
    }
   ],
   "source": [
    "pip install noisereduce\n"
   ]
  },
  {
   "cell_type": "code",
   "execution_count": 4,
   "id": "4460b023",
   "metadata": {},
   "outputs": [
    {
     "name": "stdout",
     "output_type": "stream",
     "text": [
      "Requirement already satisfied: geocoder in c:\\users\\kuksh\\anaconda3\\lib\\site-packages (1.38.1)\n",
      "Requirement already satisfied: click in c:\\users\\kuksh\\anaconda3\\lib\\site-packages (from geocoder) (8.0.4)\n",
      "Requirement already satisfied: future in c:\\users\\kuksh\\anaconda3\\lib\\site-packages (from geocoder) (0.18.2)\n",
      "Requirement already satisfied: ratelim in c:\\users\\kuksh\\anaconda3\\lib\\site-packages (from geocoder) (0.1.6)\n",
      "Requirement already satisfied: requests in c:\\users\\kuksh\\anaconda3\\lib\\site-packages (from geocoder) (2.32.3)\n",
      "Requirement already satisfied: six in c:\\users\\kuksh\\anaconda3\\lib\\site-packages (from geocoder) (1.16.0)\n",
      "Requirement already satisfied: colorama in c:\\users\\kuksh\\anaconda3\\lib\\site-packages (from click->geocoder) (0.4.4)\n",
      "Requirement already satisfied: decorator in c:\\users\\kuksh\\anaconda3\\lib\\site-packages (from ratelim->geocoder) (5.1.1)\n",
      "Requirement already satisfied: charset-normalizer<4,>=2 in c:\\users\\kuksh\\anaconda3\\lib\\site-packages (from requests->geocoder) (2.0.4)\n",
      "Requirement already satisfied: idna<4,>=2.5 in c:\\users\\kuksh\\anaconda3\\lib\\site-packages (from requests->geocoder) (3.3)\n",
      "Requirement already satisfied: urllib3<3,>=1.21.1 in c:\\users\\kuksh\\anaconda3\\lib\\site-packages (from requests->geocoder) (1.26.9)\n",
      "Requirement already satisfied: certifi>=2017.4.17 in c:\\users\\kuksh\\anaconda3\\lib\\site-packages (from requests->geocoder) (2021.10.8)\n",
      "Note: you may need to restart the kernel to use updated packages.\n"
     ]
    },
    {
     "name": "stderr",
     "output_type": "stream",
     "text": [
      "WARNING: Ignoring invalid distribution -pencv-python (c:\\users\\kuksh\\anaconda3\\lib\\site-packages)\n",
      "WARNING: Ignoring invalid distribution -pencv-python (c:\\users\\kuksh\\anaconda3\\lib\\site-packages)\n",
      "WARNING: Ignoring invalid distribution -pencv-python (c:\\users\\kuksh\\anaconda3\\lib\\site-packages)\n"
     ]
    }
   ],
   "source": [
    "pip install geocoder"
   ]
  },
  {
   "cell_type": "code",
   "execution_count": null,
   "id": "3f85285a",
   "metadata": {},
   "outputs": [
    {
     "name": "stderr",
     "output_type": "stream",
     "text": [
      "C:\\Users\\kuksh\\anaconda3\\lib\\site-packages\\paramiko\\pkey.py:82: CryptographyDeprecationWarning: TripleDES has been moved to cryptography.hazmat.decrepit.ciphers.algorithms.TripleDES and will be removed from cryptography.hazmat.primitives.ciphers.algorithms in 48.0.0.\n",
      "  \"cipher\": algorithms.TripleDES,\n",
      "C:\\Users\\kuksh\\anaconda3\\lib\\site-packages\\paramiko\\transport.py:219: CryptographyDeprecationWarning: Blowfish has been moved to cryptography.hazmat.decrepit.ciphers.algorithms.Blowfish and will be removed from cryptography.hazmat.primitives.ciphers.algorithms in 45.0.0.\n",
      "  \"class\": algorithms.Blowfish,\n",
      "C:\\Users\\kuksh\\anaconda3\\lib\\site-packages\\paramiko\\transport.py:243: CryptographyDeprecationWarning: TripleDES has been moved to cryptography.hazmat.decrepit.ciphers.algorithms.TripleDES and will be removed from cryptography.hazmat.primitives.ciphers.algorithms in 48.0.0.\n",
      "  \"class\": algorithms.TripleDES,\n",
      "C:\\Users\\kuksh\\anaconda3\\lib\\site-packages\\pydub\\utils.py:170: RuntimeWarning: Couldn't find ffmpeg or avconv - defaulting to ffmpeg, but may not work\n",
      "  warn(\"Couldn't find ffmpeg or avconv - defaulting to ffmpeg, but may not work\", RuntimeWarning)\n"
     ]
    },
    {
     "name": "stdout",
     "output_type": "stream",
     "text": [
      "Set your security code: 1212\n"
     ]
    },
    {
     "name": "stderr",
     "output_type": "stream",
     "text": [
      "C:\\Users\\kuksh\\anaconda3\\lib\\site-packages\\huggingface_hub\\file_download.py:797: FutureWarning: `resume_download` is deprecated and will be removed in version 1.0.0. Downloads always resume when possible. If you want to force a new download, use `force_download=True`.\n",
      "  warnings.warn(\n",
      "C:\\Users\\kuksh\\anaconda3\\lib\\site-packages\\transformers\\configuration_utils.py:369: UserWarning: Passing `gradient_checkpointing` to a config initialization is deprecated and will be removed in v5 Transformers. Using `model.gradient_checkpointing_enable()` instead, or if you are using the `Trainer` API, pass `gradient_checkpointing=True` in your `TrainingArguments`.\n",
      "  warnings.warn(\n",
      "C:\\Users\\kuksh\\anaconda3\\lib\\site-packages\\torch\\nn\\utils\\weight_norm.py:143: FutureWarning: `torch.nn.utils.weight_norm` is deprecated in favor of `torch.nn.utils.parametrizations.weight_norm`.\n",
      "  WeightNorm.apply(module, name, dim)\n",
      "Some weights of the model checkpoint at facebook/wav2vec2-base were not used when initializing Wav2Vec2ForSequenceClassification: ['quantizer.codevectors', 'project_hid.weight', 'quantizer.weight_proj.weight', 'project_q.weight', 'project_q.bias', 'quantizer.weight_proj.bias', 'project_hid.bias']\n",
      "- This IS expected if you are initializing Wav2Vec2ForSequenceClassification from the checkpoint of a model trained on another task or with another architecture (e.g. initializing a BertForSequenceClassification model from a BertForPreTraining model).\n",
      "- This IS NOT expected if you are initializing Wav2Vec2ForSequenceClassification from the checkpoint of a model that you expect to be exactly identical (initializing a BertForSequenceClassification model from a BertForSequenceClassification model).\n",
      "Some weights of Wav2Vec2ForSequenceClassification were not initialized from the model checkpoint at facebook/wav2vec2-base and are newly initialized: ['classifier.weight', 'projector.weight', 'projector.bias', 'classifier.bias']\n",
      "You should probably TRAIN this model on a down-stream task to be able to use it for predictions and inference.\n"
     ]
    },
    {
     "name": "stdout",
     "output_type": "stream",
     "text": [
      "Enter a location: Bangalore\n",
      "Coordinates of Bangalore: (12.98815675, 77.62260003796)\n",
      "Tracking started at location: [12.8991, 80.169]\n",
      "🚨 Person stationary for 10 seconds. Starting verification!\n",
      "\n",
      "Enter security code: 3434\n",
      "❌ Incorrect code!\n",
      "\n",
      "Enter security code: 3434\n",
      "❌ Incorrect code!\n",
      "\n",
      "Enter security code: 3434\n",
      "❌ Incorrect code!\n",
      "❌ Verification failed 3 times! Sending alert...\n",
      "🚨 SMS Alert Sent! SID: SM10b9eb34e9cac189780288f36c4155ef\n",
      "⏳ Time-based verification started...\n"
     ]
    }
   ],
   "source": [
    "import torch\n",
    "import librosa\n",
    "import threading\n",
    "import time\n",
    "import geocoder\n",
    "from geopy.geocoders import Nominatim  # Import Nominatim properly\n",
    "import requests\n",
    "from pydub import AudioSegment\n",
    "from pydub.playback import play\n",
    "from twilio.rest import Client\n",
    "from transformers import Wav2Vec2Processor, Wav2Vec2ForSequenceClassification\n",
    "import sounddevice as sd\n",
    "import numpy as np\n",
    "import wave\n",
    "import noisereduce as nr \n",
    "# Install with: pip install noisereduce\n",
    "\n",
    "def get_coordinates(place_name):\n",
    "    geolocator = Nominatim(user_agent=\"your_app_name\")  # Set a user-agent\n",
    "    location = geolocator.geocode(place_name)\n",
    "    \n",
    "    if location:\n",
    "        return (location.latitude, location.longitude)\n",
    "    else:\n",
    "        return None\n",
    "\n",
    "def get_current_location():\n",
    "    \"\"\"Get user's approximate GPS coordinates.\"\"\"\n",
    "    g = geocoder.ip('me')\n",
    "    return g.latlng if g.latlng else (None, None)\n",
    "\n",
    "def get_current_location_address():\n",
    "    \"\"\"Get the user's current location address.\"\"\"\n",
    "    coords = get_current_location()\n",
    "    if coords == (None, None):\n",
    "        return \"Location not available\"\n",
    "    geolocator = Nominatim(user_agent=\"your_app_name\")\n",
    "    location = geolocator.reverse(coords, exactly_one=True)\n",
    "    return location.address if location else \"Location not available\"\n",
    "\n",
    "# ------------------- CONFIG -------------------\n",
    "# Twilio Credentials\n",
    "ACCOUNT_SID = \"AC37965b7adf6eea30841c41fe571d0cb2\"\n",
    "AUTH_TOKEN = \"2b97c6cc1df545c033f4388f3e3c524e\"\n",
    "TWILIO_PHONE_NUMBER = \"+12185155312\"\n",
    "TO_PHONE_NUMBER = \"+918971754654\"\n",
    "\n",
    "# GraphHopper API Key\n",
    "GRAPHHOPPER_API_KEY = \"0dda774a-d9af-4c81-84f0-b1b866609dbc\"\n",
    "\n",
    "# Security Code (User Input)\n",
    "CORRECT_CODE = input(\"Set your security code: \")\n",
    "\n",
    "# Voice Model\n",
    "model_name = \"facebook/wav2vec2-base\"  \n",
    "processor = Wav2Vec2Processor.from_pretrained(model_name)\n",
    "model = Wav2Vec2ForSequenceClassification.from_pretrained(model_name)\n",
    "\n",
    "# Audio File (Alert Sound)\n",
    "ALERT_SOUND = \"alarm.wav\"  # Replace with your alert sound\n",
    "alert_sound = AudioSegment.from_wav(ALERT_SOUND)\n",
    "\n",
    "# Tracking\n",
    "# User input\n",
    "place = input(\"Enter a location: \")\n",
    "coordinates = get_coordinates(place)\n",
    "\n",
    "if coordinates:\n",
    "    print(f\"Coordinates of {place}: {coordinates}\")\n",
    "else:\n",
    "    print(\"Location not found.\")\n",
    "\n",
    "playing = False  # Control audio playback\n",
    "\n",
    "# ------------------- FUNCTIONS -------------------\n",
    "def play_audio():\n",
    "    \"\"\"Play alert sound.\"\"\"\n",
    "    global playing\n",
    "    playing = True\n",
    "    while playing:\n",
    "        play(alert_sound)\n",
    "\n",
    "def check_path_exists(start_coords, end_coords):\n",
    "    \"\"\"Check if a path exists using GraphHopper API.\"\"\"\n",
    "    url = f\"https://graphhopper.com/api/1/route?point={start_coords[0]},{start_coords[1]}&point={end_coords[0]},{end_coords[1]}&vehicle=car&key={GRAPHHOPPER_API_KEY}\"\n",
    "    response = requests.get(url).json()\n",
    "    return \"paths\" in response and len(response[\"paths\"]) > 0\n",
    "\n",
    "def denoise_audio(waveform, sample_rate):\n",
    "    \"\"\"Apply noise reduction to the audio waveform.\"\"\"\n",
    "    waveform = waveform.flatten().numpy()  # Convert tensor to NumPy array\n",
    "    reduced_noise = nr.reduce_noise(y=waveform, sr=sample_rate)\n",
    "    return torch.tensor(reduced_noise).unsqueeze(0)  # Convert back to tensor\n",
    "\n",
    "def record_voice(file_name=\"recorded_voice.wav\", duration=3, sr=16000):\n",
    "    \"\"\"Record user's voice, denoise it, and save the file.\"\"\"\n",
    "    print(\"🎤 Recording voice...\")\n",
    "    audio = sd.rec(int(duration * sr), samplerate=sr, channels=1, dtype=np.float32)\n",
    "    sd.wait()\n",
    "\n",
    "    # Apply denoising\n",
    "    audio = denoise_audio(torch.tensor(audio.T), sr)\n",
    "\n",
    "    wave_file = wave.open(file_name, \"wb\")\n",
    "    wave_file.setnchannels(1)\n",
    "    wave_file.setsampwidth(2)\n",
    "    wave_file.setframerate(sr)\n",
    "    wave_file.writeframes(audio.numpy().astype(np.int16).tobytes())\n",
    "    wave_file.close()\n",
    "\n",
    "    print(\"✅ Denoised voice recorded.\")\n",
    "    return file_name\n",
    "\n",
    "def send_alert():\n",
    "    \"\"\"Send SMS alert via Twilio with last known location.\"\"\"\n",
    "    client = Client(ACCOUNT_SID, AUTH_TOKEN)\n",
    "    current_location = get_current_location_address()\n",
    "    \n",
    "    try:\n",
    "        message = client.messages.create(\n",
    "            body=f\"🚨 DANGER! Verification failed. Immediate action required.\\nLast known location: {current_location}\",\n",
    "            from_=TWILIO_PHONE_NUMBER,\n",
    "            to=TO_PHONE_NUMBER\n",
    "        )\n",
    "        print(f\"🚨 SMS Alert Sent! SID: {message.sid}\")\n",
    "    except Exception as e:\n",
    "        print(f\"⚠️ Error sending SMS: {e}\")\n",
    "\n",
    "def verification():\n",
    "    \"\"\"Perform verification using code and voice.\"\"\"\n",
    "    global playing\n",
    "\n",
    "    for attempt in range(3):\n",
    "        audio_thread = threading.Thread(target=play_audio, daemon=True)\n",
    "        audio_thread.start()\n",
    "        \n",
    "        code = input(\"\\nEnter security code: \")\n",
    "        if code != CORRECT_CODE:\n",
    "            print(\"❌ Incorrect code!\")\n",
    "            continue\n",
    "\n",
    "        voice_file = record_voice()\n",
    "        print(\"✅ Verification successful. Stopping alert.\")\n",
    "        playing = False\n",
    "        return\n",
    "\n",
    "    print(\"❌ Verification failed 3 times! Sending alert...\")\n",
    "    send_alert()\n",
    "\n",
    "def track_location():\n",
    "    \"\"\"Track user's location, check for path, and trigger verification if needed.\"\"\"\n",
    "    last_location = get_current_location()\n",
    "    if last_location == (None, None):\n",
    "        print(\"❌ Could not get current location. Exiting...\")\n",
    "        return\n",
    "\n",
    "    print(f\"Tracking started at location: {last_location}\")\n",
    "    start_time = time.time()\n",
    "    verification_timer = start_time  # Timer for periodic verification\n",
    "\n",
    "    while True:\n",
    "        time.sleep(1)  # Check location every second\n",
    "        current_location = get_current_location()\n",
    "\n",
    "        # Check if path exists\n",
    "        if not check_path_exists(current_location, coordinates):\n",
    "            print(\"❌ Path Not Found!\")\n",
    "            continue  # Skip verification if path does not exist\n",
    "\n",
    "        # Check if the user has been stationary for 10 seconds\n",
    "        if current_location == last_location:\n",
    "            elapsed_time = time.time() - start_time\n",
    "            if elapsed_time >= 10:\n",
    "                print(\"🚨 Person stationary for 10 seconds. Starting verification!\")\n",
    "                verification()\n",
    "                start_time = time.time()  # Reset timer\n",
    "\n",
    "        else:\n",
    "            last_location = current_location\n",
    "            start_time = time.time()  # Reset stationary timer\n",
    "\n",
    "        # Trigger verification every 20 seconds\n",
    "        if time.time() - verification_timer >= 20:\n",
    "            print(\"⏳ Time-based verification started...\")\n",
    "            verification()\n",
    "            verification_timer = time.time()  # Reset verification timer\n",
    "\n",
    "        # If user is unresponsive for 1 minute, send an alert\n",
    "        if time.time() - start_time >= 60:\n",
    "            print(\"⏳ User unresponsive for 1 minute! Sending alert...\")\n",
    "            send_alert(last_location)\n",
    "\n",
    "            break\n",
    "\n",
    "# ------------------- START TRACKING -------------------\n",
    "track_location()"
   ]
  },
  {
   "cell_type": "code",
   "execution_count": null,
   "id": "d0f8a4d0",
   "metadata": {},
   "outputs": [],
   "source": []
  },
  {
   "cell_type": "code",
   "execution_count": null,
   "id": "6675212c",
   "metadata": {},
   "outputs": [],
   "source": []
  }
 ],
 "metadata": {
  "kernelspec": {
   "display_name": "Python 3 (ipykernel)",
   "language": "python",
   "name": "python3"
  },
  "language_info": {
   "codemirror_mode": {
    "name": "ipython",
    "version": 3
   },
   "file_extension": ".py",
   "mimetype": "text/x-python",
   "name": "python",
   "nbconvert_exporter": "python",
   "pygments_lexer": "ipython3",
   "version": "3.9.12"
  }
 },
 "nbformat": 4,
 "nbformat_minor": 5
}
