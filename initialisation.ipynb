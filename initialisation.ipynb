{
 "cells": [
  {
   "cell_type": "code",
   "execution_count": 1,
   "id": "c7b2a989",
   "metadata": {},
   "outputs": [
    {
     "name": "stdout",
     "output_type": "stream",
     "text": [
      "Requirement already satisfied: speechbrain in c:\\users\\kuksh\\anaconda3\\lib\\site-packages (1.0.2)\n",
      "Requirement already satisfied: hyperpyyaml in c:\\users\\kuksh\\anaconda3\\lib\\site-packages (from speechbrain) (1.2.2)\n",
      "Requirement already satisfied: joblib in c:\\users\\kuksh\\anaconda3\\lib\\site-packages (from speechbrain) (1.4.2)\n",
      "Requirement already satisfied: numpy in c:\\users\\kuksh\\anaconda3\\lib\\site-packages (from speechbrain) (1.21.6)\n",
      "Requirement already satisfied: packaging in c:\\users\\kuksh\\anaconda3\\lib\\site-packages (from speechbrain) (24.1)\n",
      "Requirement already satisfied: scipy in c:\\users\\kuksh\\anaconda3\\lib\\site-packages (from speechbrain) (1.10.1)\n",
      "Requirement already satisfied: sentencepiece in c:\\users\\kuksh\\anaconda3\\lib\\site-packages (from speechbrain) (0.2.0)\n",
      "Requirement already satisfied: torch>=1.9 in c:\\users\\kuksh\\anaconda3\\lib\\site-packages (from speechbrain) (2.6.0)\n",
      "Requirement already satisfied: torchaudio in c:\\users\\kuksh\\anaconda3\\lib\\site-packages (from speechbrain) (2.6.0+cpu)\n",
      "Requirement already satisfied: tqdm in c:\\users\\kuksh\\anaconda3\\lib\\site-packages (from speechbrain) (4.66.5)\n",
      "Requirement already satisfied: huggingface-hub in c:\\users\\kuksh\\anaconda3\\lib\\site-packages (from speechbrain) (0.26.2)\n",
      "Requirement already satisfied: filelock in c:\\users\\kuksh\\anaconda3\\lib\\site-packages (from torch>=1.9->speechbrain) (3.6.0)\n",
      "Requirement already satisfied: typing-extensions>=4.10.0 in c:\\users\\kuksh\\anaconda3\\lib\\site-packages (from torch>=1.9->speechbrain) (4.12.2)\n",
      "Requirement already satisfied: networkx in c:\\users\\kuksh\\anaconda3\\lib\\site-packages (from torch>=1.9->speechbrain) (2.7.1)Note: you may need to restart the kernel to use updated packages.\n",
      "Requirement already satisfied: jinja2 in c:\\users\\kuksh\\anaconda3\\lib\\site-packages (from torch>=1.9->speechbrain) (2.11.3)\n",
      "Requirement already satisfied: fsspec in c:\\users\\kuksh\\anaconda3\\lib\\site-packages (from torch>=1.9->speechbrain) (2024.9.0)\n",
      "Requirement already satisfied: sympy==1.13.1 in c:\\users\\kuksh\\anaconda3\\lib\\site-packages (from torch>=1.9->speechbrain) (1.13.1)\n",
      "Requirement already satisfied: mpmath<1.4,>=1.1.0 in c:\\users\\kuksh\\anaconda3\\lib\\site-packages (from sympy==1.13.1->torch>=1.9->speechbrain) (1.2.1)\n",
      "Requirement already satisfied: pyyaml>=5.1 in c:\\users\\kuksh\\anaconda3\\lib\\site-packages (from huggingface-hub->speechbrain) (6.0)\n",
      "\n"
     ]
    },
    {
     "name": "stderr",
     "output_type": "stream",
     "text": [
      "WARNING: Ignoring invalid distribution -pencv-python (c:\\users\\kuksh\\anaconda3\\lib\\site-packages)\n",
      "WARNING: Ignoring invalid distribution -pencv-python (c:\\users\\kuksh\\anaconda3\\lib\\site-packages)\n",
      "WARNING: Ignoring invalid distribution -pencv-python (c:\\users\\kuksh\\anaconda3\\lib\\site-packages)\n"
     ]
    },
    {
     "name": "stdout",
     "output_type": "stream",
     "text": [
      "Requirement already satisfied: requests in c:\\users\\kuksh\\anaconda3\\lib\\site-packages (from huggingface-hub->speechbrain) (2.32.3)\n",
      "Requirement already satisfied: colorama in c:\\users\\kuksh\\anaconda3\\lib\\site-packages (from tqdm->speechbrain) (0.4.4)\n",
      "Requirement already satisfied: ruamel.yaml>=0.17.28 in c:\\users\\kuksh\\anaconda3\\lib\\site-packages (from hyperpyyaml->speechbrain) (0.18.10)\n",
      "Requirement already satisfied: ruamel.yaml.clib>=0.2.7 in c:\\users\\kuksh\\anaconda3\\lib\\site-packages (from ruamel.yaml>=0.17.28->hyperpyyaml->speechbrain) (0.2.12)\n",
      "Requirement already satisfied: MarkupSafe>=0.23 in c:\\users\\kuksh\\anaconda3\\lib\\site-packages (from jinja2->torch>=1.9->speechbrain) (2.0.1)\n",
      "Requirement already satisfied: charset-normalizer<4,>=2 in c:\\users\\kuksh\\anaconda3\\lib\\site-packages (from requests->huggingface-hub->speechbrain) (2.0.4)\n",
      "Requirement already satisfied: idna<4,>=2.5 in c:\\users\\kuksh\\anaconda3\\lib\\site-packages (from requests->huggingface-hub->speechbrain) (3.3)\n",
      "Requirement already satisfied: urllib3<3,>=1.21.1 in c:\\users\\kuksh\\anaconda3\\lib\\site-packages (from requests->huggingface-hub->speechbrain) (1.26.9)\n",
      "Requirement already satisfied: certifi>=2017.4.17 in c:\\users\\kuksh\\anaconda3\\lib\\site-packages (from requests->huggingface-hub->speechbrain) (2021.10.8)\n"
     ]
    }
   ],
   "source": [
    "pip install speechbrain"
   ]
  },
  {
   "cell_type": "code",
   "execution_count": 2,
   "id": "db584782",
   "metadata": {},
   "outputs": [
    {
     "name": "stderr",
     "output_type": "stream",
     "text": [
      "fatal: destination path 'spkrec-ecapa-voxceleb' already exists and is not an empty directory.\n"
     ]
    }
   ],
   "source": [
    "!git clone https://huggingface.co/speechbrain/spkrec-ecapa-voxceleb"
   ]
  },
  {
   "cell_type": "code",
   "execution_count": 3,
   "id": "689a6402",
   "metadata": {},
   "outputs": [
    {
     "name": "stderr",
     "output_type": "stream",
     "text": [
      "INFO:speechbrain.utils.quirks:Applied quirks (see `speechbrain.utils.quirks`): [allow_tf32, disable_jit_profiling]\n",
      "INFO:speechbrain.utils.quirks:Excluded quirks specified by the `SB_DISABLE_QUIRKS` environment (comma-separated list): []\n",
      "C:\\Users\\kuksh\\anaconda3\\lib\\inspect.py:746: UserWarning: Module 'speechbrain.pretrained' was deprecated, redirecting to 'speechbrain.inference'. Please update your script. This is a change from SpeechBrain 1.0. See: https://github.com/speechbrain/speechbrain/releases/tag/v1.0.0\n",
      "  if ismodule(module) and hasattr(module, '__file__'):\n",
      "C:\\Users\\kuksh\\AppData\\Local\\Temp\\ipykernel_25564\\2454809806.py:4: UserWarning: Module 'speechbrain.pretrained' was deprecated, redirecting to 'speechbrain.inference'. Please update your script. This is a change from SpeechBrain 1.0. See: https://github.com/speechbrain/speechbrain/releases/tag/v1.0.0\n",
      "  from speechbrain.pretrained import EncoderClassifier\n",
      "INFO:speechbrain.utils.fetching:Fetch hyperparams.yaml: Fetching from HuggingFace Hub 'speechbrain/spkrec-ecapa-voxceleb' if not cached\n",
      "C:\\Users\\kuksh\\anaconda3\\lib\\site-packages\\speechbrain\\utils\\fetching.py:151: UserWarning: Using SYMLINK strategy on Windows for fetching potentially requires elevated privileges and is not recommended. See `LocalStrategy` documentation.\n",
      "  warnings.warn(\n",
      "INFO:speechbrain.utils.fetching:Fetch custom.py: Fetching from HuggingFace Hub 'speechbrain/spkrec-ecapa-voxceleb' if not cached\n",
      "C:\\Users\\kuksh\\anaconda3\\lib\\site-packages\\speechbrain\\utils\\autocast.py:68: FutureWarning: `torch.cuda.amp.custom_fwd(args...)` is deprecated. Please use `torch.amp.custom_fwd(args..., device_type='cuda')` instead.\n",
      "  wrapped_fwd = torch.cuda.amp.custom_fwd(fwd, cast_inputs=cast_inputs)\n",
      "C:\\Users\\kuksh\\anaconda3\\lib\\site-packages\\speechbrain\\utils\\parameter_transfer.py:234: UserWarning: Requested Pretrainer collection using symlinks on Windows. This might not work; see `LocalStrategy` documentation. Consider unsetting `collect_in` in Pretrainer to avoid symlinking altogether.\n",
      "  warnings.warn(\n",
      "INFO:speechbrain.utils.fetching:Fetch embedding_model.ckpt: Fetching from HuggingFace Hub 'speechbrain/spkrec-ecapa-voxceleb' if not cached\n",
      "INFO:speechbrain.utils.fetching:Fetch mean_var_norm_emb.ckpt: Fetching from HuggingFace Hub 'speechbrain/spkrec-ecapa-voxceleb' if not cached\n",
      "INFO:speechbrain.utils.fetching:Fetch classifier.ckpt: Fetching from HuggingFace Hub 'speechbrain/spkrec-ecapa-voxceleb' if not cached\n",
      "INFO:speechbrain.utils.fetching:Fetch label_encoder.txt: Fetching from HuggingFace Hub 'speechbrain/spkrec-ecapa-voxceleb' if not cached\n",
      "INFO:speechbrain.utils.parameter_transfer:Loading pretrained files for: embedding_model, mean_var_norm_emb, classifier, label_encoder\n"
     ]
    },
    {
     "name": "stdout",
     "output_type": "stream",
     "text": [
      "🎤 Recording 5 seconds of audio...\n"
     ]
    },
    {
     "ename": "KeyboardInterrupt",
     "evalue": "",
     "output_type": "error",
     "traceback": [
      "\u001b[1;31m---------------------------------------------------------------------------\u001b[0m",
      "\u001b[1;31mKeyboardInterrupt\u001b[0m                         Traceback (most recent call last)",
      "Input \u001b[1;32mIn [3]\u001b[0m, in \u001b[0;36m<cell line: 48>\u001b[1;34m()\u001b[0m\n\u001b[0;32m     47\u001b[0m \u001b[38;5;66;03m# Record 10 Enrollment Samples\u001b[39;00m\n\u001b[0;32m     48\u001b[0m \u001b[38;5;28;01mfor\u001b[39;00m path \u001b[38;5;129;01min\u001b[39;00m enrolled_audio_paths:\n\u001b[1;32m---> 49\u001b[0m     \u001b[43mrecord_audio\u001b[49m\u001b[43m(\u001b[49m\u001b[43mpath\u001b[49m\u001b[43m,\u001b[49m\u001b[43m \u001b[49m\u001b[43mduration\u001b[49m\u001b[38;5;241;43m=\u001b[39;49m\u001b[38;5;241;43m5\u001b[39;49m\u001b[43m)\u001b[49m\n\u001b[0;32m     51\u001b[0m \u001b[38;5;66;03m# Generate Embedding for Enrollment (Now Using 50 Samples)\u001b[39;00m\n\u001b[0;32m     52\u001b[0m enrolled_voice \u001b[38;5;241m=\u001b[39m enroll_speaker(duplicated_audio_paths)\n",
      "Input \u001b[1;32mIn [3]\u001b[0m, in \u001b[0;36mrecord_audio\u001b[1;34m(filename, duration, sample_rate)\u001b[0m\n\u001b[0;32m     16\u001b[0m \u001b[38;5;28mprint\u001b[39m(\u001b[38;5;124mf\u001b[39m\u001b[38;5;124m\"\u001b[39m\u001b[38;5;124m🎤 Recording \u001b[39m\u001b[38;5;132;01m{\u001b[39;00mduration\u001b[38;5;132;01m}\u001b[39;00m\u001b[38;5;124m seconds of audio...\u001b[39m\u001b[38;5;124m\"\u001b[39m)\n\u001b[0;32m     17\u001b[0m audio_data \u001b[38;5;241m=\u001b[39m sd\u001b[38;5;241m.\u001b[39mrec(\u001b[38;5;28mint\u001b[39m(duration \u001b[38;5;241m*\u001b[39m sample_rate), samplerate\u001b[38;5;241m=\u001b[39msample_rate, channels\u001b[38;5;241m=\u001b[39m\u001b[38;5;241m1\u001b[39m, dtype\u001b[38;5;241m=\u001b[39mnp\u001b[38;5;241m.\u001b[39mfloat32)\n\u001b[1;32m---> 18\u001b[0m \u001b[43msd\u001b[49m\u001b[38;5;241;43m.\u001b[39;49m\u001b[43mwait\u001b[49m\u001b[43m(\u001b[49m\u001b[43m)\u001b[49m\n\u001b[0;32m     19\u001b[0m torchaudio\u001b[38;5;241m.\u001b[39msave(filename, torch\u001b[38;5;241m.\u001b[39mtensor(audio_data\u001b[38;5;241m.\u001b[39mT), sample_rate)\n\u001b[0;32m     20\u001b[0m \u001b[38;5;28mprint\u001b[39m(\u001b[38;5;124mf\u001b[39m\u001b[38;5;124m\"\u001b[39m\u001b[38;5;124m✅ Recording saved as \u001b[39m\u001b[38;5;132;01m{\u001b[39;00mfilename\u001b[38;5;132;01m}\u001b[39;00m\u001b[38;5;124m\"\u001b[39m)\n",
      "File \u001b[1;32m~\\anaconda3\\lib\\site-packages\\sounddevice.py:398\u001b[0m, in \u001b[0;36mwait\u001b[1;34m(ignore_errors)\u001b[0m\n\u001b[0;32m    382\u001b[0m \u001b[38;5;250m\u001b[39m\u001b[38;5;124;03m\"\"\"Wait for `play()`/`rec()`/`playrec()` to be finished.\u001b[39;00m\n\u001b[0;32m    383\u001b[0m \n\u001b[0;32m    384\u001b[0m \u001b[38;5;124;03mPlayback/recording can be stopped with a `KeyboardInterrupt`.\u001b[39;00m\n\u001b[1;32m   (...)\u001b[0m\n\u001b[0;32m    395\u001b[0m \n\u001b[0;32m    396\u001b[0m \u001b[38;5;124;03m\"\"\"\u001b[39;00m\n\u001b[0;32m    397\u001b[0m \u001b[38;5;28;01mif\u001b[39;00m _last_callback:\n\u001b[1;32m--> 398\u001b[0m     \u001b[38;5;28;01mreturn\u001b[39;00m \u001b[43m_last_callback\u001b[49m\u001b[38;5;241;43m.\u001b[39;49m\u001b[43mwait\u001b[49m\u001b[43m(\u001b[49m\u001b[43mignore_errors\u001b[49m\u001b[43m)\u001b[49m\n",
      "File \u001b[1;32m~\\anaconda3\\lib\\site-packages\\sounddevice.py:2645\u001b[0m, in \u001b[0;36m_CallbackContext.wait\u001b[1;34m(self, ignore_errors)\u001b[0m\n\u001b[0;32m   2639\u001b[0m \u001b[38;5;250m\u001b[39m\u001b[38;5;124;03m\"\"\"Wait for finished_callback.\u001b[39;00m\n\u001b[0;32m   2640\u001b[0m \n\u001b[0;32m   2641\u001b[0m \u001b[38;5;124;03mCan be interrupted with a KeyboardInterrupt.\u001b[39;00m\n\u001b[0;32m   2642\u001b[0m \n\u001b[0;32m   2643\u001b[0m \u001b[38;5;124;03m\"\"\"\u001b[39;00m\n\u001b[0;32m   2644\u001b[0m \u001b[38;5;28;01mtry\u001b[39;00m:\n\u001b[1;32m-> 2645\u001b[0m     \u001b[38;5;28;43mself\u001b[39;49m\u001b[38;5;241;43m.\u001b[39;49m\u001b[43mevent\u001b[49m\u001b[38;5;241;43m.\u001b[39;49m\u001b[43mwait\u001b[49m\u001b[43m(\u001b[49m\u001b[43m)\u001b[49m\n\u001b[0;32m   2646\u001b[0m \u001b[38;5;28;01mfinally\u001b[39;00m:\n\u001b[0;32m   2647\u001b[0m     \u001b[38;5;28mself\u001b[39m\u001b[38;5;241m.\u001b[39mstream\u001b[38;5;241m.\u001b[39mclose(ignore_errors)\n",
      "File \u001b[1;32m~\\anaconda3\\lib\\threading.py:574\u001b[0m, in \u001b[0;36mEvent.wait\u001b[1;34m(self, timeout)\u001b[0m\n\u001b[0;32m    572\u001b[0m signaled \u001b[38;5;241m=\u001b[39m \u001b[38;5;28mself\u001b[39m\u001b[38;5;241m.\u001b[39m_flag\n\u001b[0;32m    573\u001b[0m \u001b[38;5;28;01mif\u001b[39;00m \u001b[38;5;129;01mnot\u001b[39;00m signaled:\n\u001b[1;32m--> 574\u001b[0m     signaled \u001b[38;5;241m=\u001b[39m \u001b[38;5;28;43mself\u001b[39;49m\u001b[38;5;241;43m.\u001b[39;49m\u001b[43m_cond\u001b[49m\u001b[38;5;241;43m.\u001b[39;49m\u001b[43mwait\u001b[49m\u001b[43m(\u001b[49m\u001b[43mtimeout\u001b[49m\u001b[43m)\u001b[49m\n\u001b[0;32m    575\u001b[0m \u001b[38;5;28;01mreturn\u001b[39;00m signaled\n",
      "File \u001b[1;32m~\\anaconda3\\lib\\threading.py:312\u001b[0m, in \u001b[0;36mCondition.wait\u001b[1;34m(self, timeout)\u001b[0m\n\u001b[0;32m    310\u001b[0m \u001b[38;5;28;01mtry\u001b[39;00m:    \u001b[38;5;66;03m# restore state no matter what (e.g., KeyboardInterrupt)\u001b[39;00m\n\u001b[0;32m    311\u001b[0m     \u001b[38;5;28;01mif\u001b[39;00m timeout \u001b[38;5;129;01mis\u001b[39;00m \u001b[38;5;28;01mNone\u001b[39;00m:\n\u001b[1;32m--> 312\u001b[0m         \u001b[43mwaiter\u001b[49m\u001b[38;5;241;43m.\u001b[39;49m\u001b[43macquire\u001b[49m\u001b[43m(\u001b[49m\u001b[43m)\u001b[49m\n\u001b[0;32m    313\u001b[0m         gotit \u001b[38;5;241m=\u001b[39m \u001b[38;5;28;01mTrue\u001b[39;00m\n\u001b[0;32m    314\u001b[0m     \u001b[38;5;28;01melse\u001b[39;00m:\n",
      "\u001b[1;31mKeyboardInterrupt\u001b[0m: "
     ]
    }
   ],
   "source": [
    "import torchaudio\n",
    "import torch\n",
    "import speechbrain as sb\n",
    "from speechbrain.pretrained import EncoderClassifier\n",
    "import sounddevice as sd\n",
    "import numpy as np\n",
    "\n",
    "# Load the Speaker Recognition Model\n",
    "model = EncoderClassifier.from_hparams(\n",
    "    source=\"speechbrain/spkrec-ecapa-voxceleb\",\n",
    "    savedir=\"tmp/spkrec-ecapa-voxceleb\"\n",
    ")\n",
    "\n",
    "# Function to Record Audio\n",
    "def record_audio(filename, duration=5, sample_rate=16000):\n",
    "    print(f\"🎤 Recording {duration} seconds of audio...\")\n",
    "    audio_data = sd.rec(int(duration * sample_rate), samplerate=sample_rate, channels=1, dtype=np.float32)\n",
    "    sd.wait()\n",
    "    torchaudio.save(filename, torch.tensor(audio_data.T), sample_rate)\n",
    "    print(f\"✅ Recording saved as {filename}\")\n",
    "\n",
    "# Function to Denoise Audio (Placeholder)\n",
    "def denoise_audio(waveform, sample_rate):\n",
    "    return waveform  # Implement noise reduction here if needed\n",
    "\n",
    "def enroll_speaker(audio_paths):\n",
    "    embeddings = []\n",
    "    for path in audio_paths:\n",
    "        waveform, sample_rate = torchaudio.load(path)\n",
    "        waveform = denoise_audio(waveform, sample_rate)  # Apply denoising\n",
    "\n",
    "        # Ensure waveform has sufficient length\n",
    "        if waveform.shape[-1] < 3:\n",
    "            waveform = torch.nn.functional.pad(waveform, (0, 3 - waveform.shape[-1]))\n",
    "\n",
    "        embedding = model.encode_batch(waveform, wav_lens=None)\n",
    "        embeddings.append(embedding)\n",
    "\n",
    "    return torch.stack(embeddings).mean(dim=0)\n",
    "\n",
    "# Generate 10 Enrollment Audio Filenames\n",
    "enrolled_audio_paths = [f\"enroll_{i}.wav\" for i in range(1, 11)]\n",
    "\n",
    "# Duplicate the 10 Samples to Make 50\n",
    "duplicated_audio_paths = enrolled_audio_paths * 5  # 10 samples × 5 = 50\n",
    "\n",
    "# Record 10 Enrollment Samples\n",
    "for path in enrolled_audio_paths:\n",
    "    record_audio(path, duration=5)\n",
    "\n",
    "# Generate Embedding for Enrollment (Now Using 50 Samples)\n",
    "enrolled_voice = enroll_speaker(duplicated_audio_paths)\n"
   ]
  },
  {
   "cell_type": "code",
   "execution_count": null,
   "id": "b217ecc9",
   "metadata": {},
   "outputs": [],
   "source": []
  }
 ],
 "metadata": {
  "kernelspec": {
   "display_name": "Python 3 (ipykernel)",
   "language": "python",
   "name": "python3"
  },
  "language_info": {
   "codemirror_mode": {
    "name": "ipython",
    "version": 3
   },
   "file_extension": ".py",
   "mimetype": "text/x-python",
   "name": "python",
   "nbconvert_exporter": "python",
   "pygments_lexer": "ipython3",
   "version": "3.9.12"
  }
 },
 "nbformat": 4,
 "nbformat_minor": 5
}
